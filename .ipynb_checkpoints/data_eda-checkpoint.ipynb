{
 "cells": [
  {
   "cell_type": "code",
   "execution_count": 4,
   "id": "1b0f7c6a",
   "metadata": {},
   "outputs": [],
   "source": [
    "import pandas as pd\n",
    "import matplotlib.pyplot as plt\n",
    "import seaborn as sns\n"
   ]
  },
  {
   "cell_type": "code",
   "execution_count": 5,
   "id": "483a65d4",
   "metadata": {},
   "outputs": [],
   "source": [
    "df=pd.read_csv(\"salary_data_cleaned.csv\")"
   ]
  },
  {
   "cell_type": "code",
   "execution_count": 6,
   "id": "43a5de35",
   "metadata": {},
   "outputs": [
    {
     "data": {
      "text/html": [
       "<div>\n",
       "<style scoped>\n",
       "    .dataframe tbody tr th:only-of-type {\n",
       "        vertical-align: middle;\n",
       "    }\n",
       "\n",
       "    .dataframe tbody tr th {\n",
       "        vertical-align: top;\n",
       "    }\n",
       "\n",
       "    .dataframe thead th {\n",
       "        text-align: right;\n",
       "    }\n",
       "</style>\n",
       "<table border=\"1\" class=\"dataframe\">\n",
       "  <thead>\n",
       "    <tr style=\"text-align: right;\">\n",
       "      <th></th>\n",
       "      <th>Job Title</th>\n",
       "      <th>Salary Estimate</th>\n",
       "      <th>Job Description</th>\n",
       "      <th>Rating</th>\n",
       "      <th>Company Name</th>\n",
       "      <th>Location</th>\n",
       "      <th>Size</th>\n",
       "      <th>Founded</th>\n",
       "      <th>Type of ownership</th>\n",
       "      <th>Industry</th>\n",
       "      <th>...</th>\n",
       "      <th>max_salary</th>\n",
       "      <th>avr_salary</th>\n",
       "      <th>company_txt</th>\n",
       "      <th>job_state</th>\n",
       "      <th>age</th>\n",
       "      <th>python_yn</th>\n",
       "      <th>R_yn</th>\n",
       "      <th>spark</th>\n",
       "      <th>aws</th>\n",
       "      <th>excel</th>\n",
       "    </tr>\n",
       "  </thead>\n",
       "  <tbody>\n",
       "    <tr>\n",
       "      <th>0</th>\n",
       "      <td>Junior Data Scientist</td>\n",
       "      <td>Employer Provided Salary:$50K - $85K</td>\n",
       "      <td>SiteZeus is hiring a Data Scientist to join ou...</td>\n",
       "      <td>4.7</td>\n",
       "      <td>SiteZeus\\r\\n4.7</td>\n",
       "      <td>Remote</td>\n",
       "      <td>1 to 50 Employees</td>\n",
       "      <td>2014</td>\n",
       "      <td>Company - Private</td>\n",
       "      <td>Enterprise Software &amp; Network Solutions</td>\n",
       "      <td>...</td>\n",
       "      <td>85</td>\n",
       "      <td>67.5</td>\n",
       "      <td>SiteZeus\\r\\n</td>\n",
       "      <td>Remote</td>\n",
       "      <td>7</td>\n",
       "      <td>1</td>\n",
       "      <td>0</td>\n",
       "      <td>0</td>\n",
       "      <td>0</td>\n",
       "      <td>0</td>\n",
       "    </tr>\n",
       "    <tr>\n",
       "      <th>1</th>\n",
       "      <td>Geospatial Data Scientist</td>\n",
       "      <td>Employer Provided Salary:$50 - $100 Per Hour</td>\n",
       "      <td>HySpecIQ puts hyperspectral data into the hand...</td>\n",
       "      <td>-1.0</td>\n",
       "      <td>HySpecIQ</td>\n",
       "      <td>Remote</td>\n",
       "      <td>-1</td>\n",
       "      <td>-1</td>\n",
       "      <td>-1</td>\n",
       "      <td>-1</td>\n",
       "      <td>...</td>\n",
       "      <td>100</td>\n",
       "      <td>75.0</td>\n",
       "      <td>HySpecIQ</td>\n",
       "      <td>Remote</td>\n",
       "      <td>-1</td>\n",
       "      <td>0</td>\n",
       "      <td>0</td>\n",
       "      <td>0</td>\n",
       "      <td>0</td>\n",
       "      <td>0</td>\n",
       "    </tr>\n",
       "    <tr>\n",
       "      <th>2</th>\n",
       "      <td>Sr. Optimization Data Scientist</td>\n",
       "      <td>$68K - $122K (Glassdoor est.)</td>\n",
       "      <td>Maybe you’ve stopped by for a coffee, fueled u...</td>\n",
       "      <td>2.6</td>\n",
       "      <td>Circle K\\r\\n2.6</td>\n",
       "      <td>Tempe, AZ</td>\n",
       "      <td>51 to 200 Employees</td>\n",
       "      <td>Company - Private</td>\n",
       "      <td>Unknown / Non-Applicable</td>\n",
       "      <td>-1</td>\n",
       "      <td>...</td>\n",
       "      <td>122</td>\n",
       "      <td>95.0</td>\n",
       "      <td>Circle K\\r\\n</td>\n",
       "      <td>AZ</td>\n",
       "      <td>-1</td>\n",
       "      <td>1</td>\n",
       "      <td>0</td>\n",
       "      <td>0</td>\n",
       "      <td>1</td>\n",
       "      <td>0</td>\n",
       "    </tr>\n",
       "    <tr>\n",
       "      <th>3</th>\n",
       "      <td>Data Scientist</td>\n",
       "      <td>$72K - $121K (Glassdoor est.)</td>\n",
       "      <td>Our team is responsible for worldwide linear a...</td>\n",
       "      <td>3.6</td>\n",
       "      <td>Infinity Consulting Solutions, Inc.\\r\\n3.6</td>\n",
       "      <td>Burbank, CA</td>\n",
       "      <td>501 to 1000 Employees</td>\n",
       "      <td>2001</td>\n",
       "      <td>Company - Private</td>\n",
       "      <td>Staffing &amp; Outsourcing</td>\n",
       "      <td>...</td>\n",
       "      <td>121</td>\n",
       "      <td>96.5</td>\n",
       "      <td>Infinity Consulting Solutions, Inc.\\r\\n</td>\n",
       "      <td>CA</td>\n",
       "      <td>20</td>\n",
       "      <td>1</td>\n",
       "      <td>0</td>\n",
       "      <td>0</td>\n",
       "      <td>1</td>\n",
       "      <td>0</td>\n",
       "    </tr>\n",
       "    <tr>\n",
       "      <th>4</th>\n",
       "      <td>Data Scientist</td>\n",
       "      <td>Employer Provided Salary:$45 - $60 Per Hour</td>\n",
       "      <td>Job Description:\\r\\n*Analyze large amounts of ...</td>\n",
       "      <td>-1.0</td>\n",
       "      <td>skapare</td>\n",
       "      <td>Dallas, TX</td>\n",
       "      <td>-1</td>\n",
       "      <td>-1</td>\n",
       "      <td>-1</td>\n",
       "      <td>-1</td>\n",
       "      <td>...</td>\n",
       "      <td>60</td>\n",
       "      <td>52.5</td>\n",
       "      <td>skapare</td>\n",
       "      <td>TX</td>\n",
       "      <td>-1</td>\n",
       "      <td>1</td>\n",
       "      <td>0</td>\n",
       "      <td>0</td>\n",
       "      <td>0</td>\n",
       "      <td>0</td>\n",
       "    </tr>\n",
       "  </tbody>\n",
       "</table>\n",
       "<p>5 rows × 25 columns</p>\n",
       "</div>"
      ],
      "text/plain": [
       "                         Job Title  \\\n",
       "0            Junior Data Scientist   \n",
       "1        Geospatial Data Scientist   \n",
       "2  Sr. Optimization Data Scientist   \n",
       "3                   Data Scientist   \n",
       "4                   Data Scientist   \n",
       "\n",
       "                                Salary Estimate  \\\n",
       "0          Employer Provided Salary:$50K - $85K   \n",
       "1  Employer Provided Salary:$50 - $100 Per Hour   \n",
       "2                 $68K - $122K (Glassdoor est.)   \n",
       "3                 $72K - $121K (Glassdoor est.)   \n",
       "4   Employer Provided Salary:$45 - $60 Per Hour   \n",
       "\n",
       "                                     Job Description  Rating  \\\n",
       "0  SiteZeus is hiring a Data Scientist to join ou...     4.7   \n",
       "1  HySpecIQ puts hyperspectral data into the hand...    -1.0   \n",
       "2  Maybe you’ve stopped by for a coffee, fueled u...     2.6   \n",
       "3  Our team is responsible for worldwide linear a...     3.6   \n",
       "4  Job Description:\\r\\n*Analyze large amounts of ...    -1.0   \n",
       "\n",
       "                                 Company Name     Location  \\\n",
       "0                             SiteZeus\\r\\n4.7       Remote   \n",
       "1                                    HySpecIQ       Remote   \n",
       "2                             Circle K\\r\\n2.6    Tempe, AZ   \n",
       "3  Infinity Consulting Solutions, Inc.\\r\\n3.6  Burbank, CA   \n",
       "4                                     skapare   Dallas, TX   \n",
       "\n",
       "                    Size            Founded         Type of ownership  \\\n",
       "0      1 to 50 Employees               2014         Company - Private   \n",
       "1                     -1                 -1                        -1   \n",
       "2    51 to 200 Employees  Company - Private  Unknown / Non-Applicable   \n",
       "3  501 to 1000 Employees               2001         Company - Private   \n",
       "4                     -1                 -1                        -1   \n",
       "\n",
       "                                  Industry  ... max_salary avr_salary  \\\n",
       "0  Enterprise Software & Network Solutions  ...         85       67.5   \n",
       "1                                       -1  ...        100       75.0   \n",
       "2                                       -1  ...        122       95.0   \n",
       "3                   Staffing & Outsourcing  ...        121       96.5   \n",
       "4                                       -1  ...         60       52.5   \n",
       "\n",
       "                               company_txt  job_state  age  python_yn  R_yn  \\\n",
       "0                             SiteZeus\\r\\n     Remote    7          1     0   \n",
       "1                                 HySpecIQ     Remote   -1          0     0   \n",
       "2                             Circle K\\r\\n         AZ   -1          1     0   \n",
       "3  Infinity Consulting Solutions, Inc.\\r\\n         CA   20          1     0   \n",
       "4                                  skapare         TX   -1          1     0   \n",
       "\n",
       "  spark aws  excel  \n",
       "0     0   0      0  \n",
       "1     0   0      0  \n",
       "2     0   1      0  \n",
       "3     0   1      0  \n",
       "4     0   0      0  \n",
       "\n",
       "[5 rows x 25 columns]"
      ]
     },
     "execution_count": 6,
     "metadata": {},
     "output_type": "execute_result"
    }
   ],
   "source": [
    "df.head()"
   ]
  },
  {
   "cell_type": "code",
   "execution_count": 7,
   "id": "3434c498",
   "metadata": {},
   "outputs": [
    {
     "data": {
      "text/plain": [
       "Index(['Job Title', 'Salary Estimate', 'Job Description', 'Rating',\n",
       "       'Company Name', 'Location', 'Size', 'Founded', 'Type of ownership',\n",
       "       'Industry', 'Sector', 'Revenue', 'hourly', 'employer_provided',\n",
       "       'min_salary', 'max_salary', 'avr_salary', 'company_txt', 'job_state',\n",
       "       'age', 'python_yn', 'R_yn', 'spark', 'aws', 'excel'],\n",
       "      dtype='object')"
      ]
     },
     "execution_count": 7,
     "metadata": {},
     "output_type": "execute_result"
    }
   ],
   "source": [
    "df.columns"
   ]
  },
  {
   "cell_type": "code",
   "execution_count": 8,
   "id": "0d5a0b07",
   "metadata": {},
   "outputs": [],
   "source": [
    "def title_simplifier(title):\n",
    "    if 'data scientist' in title.lower():\n",
    "        return 'data scientist'\n",
    "    elif 'data engineer' in title.lower():\n",
    "        return 'data engineer'\n",
    "    elif 'analyst' in title.lower():\n",
    "        return 'analyst'\n",
    "    elif 'machine learning' in title.lower():\n",
    "        return 'mle'\n",
    "    elif 'manager' in title.lower():\n",
    "        return 'manager'\n",
    "    elif 'director' in title.lower():\n",
    "        return 'director'\n",
    "    else:\n",
    "        return 'na'\n",
    "    \n",
    "def seniority(title):\n",
    "    if 'sr' in title.lower() or 'senior' in title.lower() or 'sr' in title.lower() or 'lead' in title.lower() or 'principal' in title.lower():\n",
    "            return 'senior'\n",
    "    elif 'jr' in title.lower() or 'jr.' in title.lower() or 'junior' in title.lower():\n",
    "        return 'jr'\n",
    "    else:\n",
    "        return 'na'\n",
    "\t\t\n",
    "## Job title and seniority \n",
    "\t\t\n",
    "##  Fix state Los Angeles \n",
    "\n",
    "##  Job description length \n",
    "\n",
    "##  Competitor count\n",
    "\n",
    "## hourly wage to annual \n",
    "\n",
    "#remove new line from job title"
   ]
  },
  {
   "cell_type": "code",
   "execution_count": 9,
   "id": "fec647c1",
   "metadata": {},
   "outputs": [],
   "source": [
    "df['job_simp']=df['Job Title'].apply(title_simplifier)"
   ]
  },
  {
   "cell_type": "code",
   "execution_count": 10,
   "id": "73a3f178",
   "metadata": {},
   "outputs": [
    {
     "data": {
      "text/plain": [
       "data scientist    41\n",
       "na                 5\n",
       "manager            3\n",
       "mle                1\n",
       "analyst            1\n",
       "Name: job_simp, dtype: int64"
      ]
     },
     "execution_count": 10,
     "metadata": {},
     "output_type": "execute_result"
    }
   ],
   "source": [
    "df.job_simp.value_counts()"
   ]
  },
  {
   "cell_type": "code",
   "execution_count": 11,
   "id": "3e275861",
   "metadata": {},
   "outputs": [
    {
     "data": {
      "text/plain": [
       "na        34\n",
       "senior    13\n",
       "jr         4\n",
       "Name: seniority, dtype: int64"
      ]
     },
     "execution_count": 11,
     "metadata": {},
     "output_type": "execute_result"
    }
   ],
   "source": [
    "df['seniority']=df['Job Title'].apply(seniority)\n",
    "df.seniority.value_counts()"
   ]
  },
  {
   "cell_type": "code",
   "execution_count": null,
   "id": "d0c26b86",
   "metadata": {},
   "outputs": [],
   "source": []
  },
  {
   "cell_type": "code",
   "execution_count": 12,
   "id": "de1183a2",
   "metadata": {},
   "outputs": [
    {
     "data": {
      "text/plain": [
       "0     3948\n",
       "1     2112\n",
       "2     2556\n",
       "3     2819\n",
       "4     1605\n",
       "5     4668\n",
       "6     2899\n",
       "7     3960\n",
       "8     5097\n",
       "9     2990\n",
       "10    2481\n",
       "11    2196\n",
       "12    3999\n",
       "13    1881\n",
       "14    1413\n",
       "15     847\n",
       "16    1419\n",
       "17    1489\n",
       "18    2165\n",
       "19    1562\n",
       "20    3420\n",
       "21    5188\n",
       "22    1197\n",
       "23    2561\n",
       "24    2324\n",
       "25    3648\n",
       "26    5977\n",
       "27    5285\n",
       "28    2675\n",
       "29    1981\n",
       "30    3639\n",
       "31    3110\n",
       "32    4626\n",
       "33    3420\n",
       "34    5285\n",
       "35    5084\n",
       "36    2675\n",
       "37    2561\n",
       "38    4626\n",
       "39    5188\n",
       "40    3145\n",
       "41    4149\n",
       "42    4315\n",
       "43    4263\n",
       "44    1692\n",
       "45    6676\n",
       "46     849\n",
       "47    6807\n",
       "48    2909\n",
       "49    3420\n",
       "50    5188\n",
       "Name: desc_len, dtype: int64"
      ]
     },
     "execution_count": 12,
     "metadata": {},
     "output_type": "execute_result"
    }
   ],
   "source": [
    "#  Job description length \n",
    "df['desc_len'] = df['Job Description'].apply(lambda x: len(x))\n",
    "df['desc_len']\n"
   ]
  },
  {
   "cell_type": "code",
   "execution_count": 13,
   "id": "581d439c",
   "metadata": {},
   "outputs": [
    {
     "data": {
      "text/html": [
       "<div>\n",
       "<style scoped>\n",
       "    .dataframe tbody tr th:only-of-type {\n",
       "        vertical-align: middle;\n",
       "    }\n",
       "\n",
       "    .dataframe tbody tr th {\n",
       "        vertical-align: top;\n",
       "    }\n",
       "\n",
       "    .dataframe thead th {\n",
       "        text-align: right;\n",
       "    }\n",
       "</style>\n",
       "<table border=\"1\" class=\"dataframe\">\n",
       "  <thead>\n",
       "    <tr style=\"text-align: right;\">\n",
       "      <th></th>\n",
       "      <th>hourly</th>\n",
       "      <th>min_salary</th>\n",
       "      <th>max_salary</th>\n",
       "    </tr>\n",
       "  </thead>\n",
       "  <tbody>\n",
       "    <tr>\n",
       "      <th>1</th>\n",
       "      <td>1</td>\n",
       "      <td>50</td>\n",
       "      <td>200</td>\n",
       "    </tr>\n",
       "    <tr>\n",
       "      <th>4</th>\n",
       "      <td>1</td>\n",
       "      <td>45</td>\n",
       "      <td>120</td>\n",
       "    </tr>\n",
       "    <tr>\n",
       "      <th>7</th>\n",
       "      <td>1</td>\n",
       "      <td>89</td>\n",
       "      <td>188</td>\n",
       "    </tr>\n",
       "    <tr>\n",
       "      <th>11</th>\n",
       "      <td>1</td>\n",
       "      <td>45</td>\n",
       "      <td>100</td>\n",
       "    </tr>\n",
       "    <tr>\n",
       "      <th>15</th>\n",
       "      <td>1</td>\n",
       "      <td>31</td>\n",
       "      <td>158</td>\n",
       "    </tr>\n",
       "    <tr>\n",
       "      <th>17</th>\n",
       "      <td>1</td>\n",
       "      <td>70</td>\n",
       "      <td>156</td>\n",
       "    </tr>\n",
       "    <tr>\n",
       "      <th>22</th>\n",
       "      <td>1</td>\n",
       "      <td>65</td>\n",
       "      <td>150</td>\n",
       "    </tr>\n",
       "  </tbody>\n",
       "</table>\n",
       "</div>"
      ],
      "text/plain": [
       "    hourly  min_salary  max_salary\n",
       "1        1          50         200\n",
       "4        1          45         120\n",
       "7        1          89         188\n",
       "11       1          45         100\n",
       "15       1          31         158\n",
       "17       1          70         156\n",
       "22       1          65         150"
      ]
     },
     "execution_count": 13,
     "metadata": {},
     "output_type": "execute_result"
    }
   ],
   "source": [
    "# hourly wage to annual\n",
    "df['mi_slalry']=df.apply(lambda x: x.min_salary*2 if x.hourly==1 else x.min_salary,axis=1)\n",
    "df['max_salary'] = df.apply(lambda x: x.max_salary*2 if x.hourly ==1 else x.max_salary, axis =1)\n",
    "df[df.hourly ==1][['hourly','min_salary','max_salary']]"
   ]
  },
  {
   "cell_type": "code",
   "execution_count": 16,
   "id": "302b2a24",
   "metadata": {},
   "outputs": [
    {
     "data": {
      "text/plain": [
       "0                                       SiteZeus\n",
       "1                                       HySpecIQ\n",
       "2                                       Circle K\n",
       "3            Infinity Consulting Solutions, Inc.\n",
       "4                                        skapare\n",
       "5                            Deep Sentinel Corp.\n",
       "6                      Cambridge Technology Inc.\n",
       "7                             PROLIM Corporation\n",
       "8                 Toyota Connected North America\n",
       "9                               Electra Vehicles\n",
       "10                                  Camus Energy\n",
       "11                                          EGRS\n",
       "12                                    GoGuardian\n",
       "13                                  Suncloud LLC\n",
       "14                            e a -Learn Company\n",
       "15                                    EATEAM Inc\n",
       "16                               AmeriTEK Global\n",
       "17                                Kani Solutions\n",
       "18                            Philadelphia 76ers\n",
       "19                                     Audiohook\n",
       "20                       Farmers Insurance Group\n",
       "21                                       Discord\n",
       "22                                           NLB\n",
       "23                                           MIT\n",
       "24                                       Engage3\n",
       "25                                       Discord\n",
       "26                                   LendingHome\n",
       "27                                          atai\n",
       "28                                       Komatsu\n",
       "29                                     Doorstead\n",
       "30                               Navigate360 Llc\n",
       "31                                           AXS\n",
       "32                                       Discord\n",
       "33                       Farmers Insurance Group\n",
       "34                                          atai\n",
       "35                                       Netflix\n",
       "36                                       Komatsu\n",
       "37                                           MIT\n",
       "38                                       Discord\n",
       "39                                       Discord\n",
       "40                                 Translate Bio\n",
       "41                                Rockstar Games\n",
       "42     Disney Media & Entertainment Distribution\n",
       "43                              Costco Wholesale\n",
       "44                                     AE Studio\n",
       "45    Sony Interactive Entertainment PlayStation\n",
       "46                                 Avila Trading\n",
       "47                                 Carrum Health\n",
       "48                                      EpochGeo\n",
       "49                       Farmers Insurance Group\n",
       "50                                       Discord\n",
       "Name: company_txt, dtype: object"
      ]
     },
     "execution_count": 16,
     "metadata": {},
     "output_type": "execute_result"
    }
   ],
   "source": [
    "df['company_txt'] = df.company_txt.apply(lambda x: x.replace('\\n', ''))\n",
    "df['company_txt']"
   ]
  },
  {
   "cell_type": "code",
   "execution_count": 18,
   "id": "cfe75f6a",
   "metadata": {
    "scrolled": false
   },
   "outputs": [
    {
     "data": {
      "text/html": [
       "<div>\n",
       "<style scoped>\n",
       "    .dataframe tbody tr th:only-of-type {\n",
       "        vertical-align: middle;\n",
       "    }\n",
       "\n",
       "    .dataframe tbody tr th {\n",
       "        vertical-align: top;\n",
       "    }\n",
       "\n",
       "    .dataframe thead th {\n",
       "        text-align: right;\n",
       "    }\n",
       "</style>\n",
       "<table border=\"1\" class=\"dataframe\">\n",
       "  <thead>\n",
       "    <tr style=\"text-align: right;\">\n",
       "      <th></th>\n",
       "      <th>Rating</th>\n",
       "      <th>hourly</th>\n",
       "      <th>employer_provided</th>\n",
       "      <th>min_salary</th>\n",
       "      <th>max_salary</th>\n",
       "      <th>avr_salary</th>\n",
       "      <th>age</th>\n",
       "      <th>python_yn</th>\n",
       "      <th>R_yn</th>\n",
       "      <th>spark</th>\n",
       "      <th>aws</th>\n",
       "      <th>excel</th>\n",
       "      <th>desc_len</th>\n",
       "      <th>mi_slalry</th>\n",
       "    </tr>\n",
       "  </thead>\n",
       "  <tbody>\n",
       "    <tr>\n",
       "      <th>count</th>\n",
       "      <td>51.000000</td>\n",
       "      <td>51.000000</td>\n",
       "      <td>51.000000</td>\n",
       "      <td>51.000000</td>\n",
       "      <td>51.000000</td>\n",
       "      <td>51.000000</td>\n",
       "      <td>51.000000</td>\n",
       "      <td>51.000000</td>\n",
       "      <td>51.000000</td>\n",
       "      <td>51.000000</td>\n",
       "      <td>51.000000</td>\n",
       "      <td>51.000000</td>\n",
       "      <td>51.000000</td>\n",
       "      <td>51.000000</td>\n",
       "    </tr>\n",
       "    <tr>\n",
       "      <th>mean</th>\n",
       "      <td>3.121569</td>\n",
       "      <td>0.137255</td>\n",
       "      <td>0.274510</td>\n",
       "      <td>76.058824</td>\n",
       "      <td>151.254902</td>\n",
       "      <td>108.401961</td>\n",
       "      <td>21.117647</td>\n",
       "      <td>0.843137</td>\n",
       "      <td>0.019608</td>\n",
       "      <td>0.117647</td>\n",
       "      <td>0.176471</td>\n",
       "      <td>0.352941</td>\n",
       "      <td>3333.117647</td>\n",
       "      <td>83.803922</td>\n",
       "    </tr>\n",
       "    <tr>\n",
       "      <th>std</th>\n",
       "      <td>2.113889</td>\n",
       "      <td>0.347540</td>\n",
       "      <td>0.450708</td>\n",
       "      <td>23.010790</td>\n",
       "      <td>39.820519</td>\n",
       "      <td>32.634647</td>\n",
       "      <td>39.010074</td>\n",
       "      <td>0.367290</td>\n",
       "      <td>0.140028</td>\n",
       "      <td>0.325396</td>\n",
       "      <td>0.385013</td>\n",
       "      <td>0.482640</td>\n",
       "      <td>1504.732596</td>\n",
       "      <td>27.202955</td>\n",
       "    </tr>\n",
       "    <tr>\n",
       "      <th>min</th>\n",
       "      <td>-1.000000</td>\n",
       "      <td>0.000000</td>\n",
       "      <td>0.000000</td>\n",
       "      <td>31.000000</td>\n",
       "      <td>80.000000</td>\n",
       "      <td>47.500000</td>\n",
       "      <td>-1.000000</td>\n",
       "      <td>0.000000</td>\n",
       "      <td>0.000000</td>\n",
       "      <td>0.000000</td>\n",
       "      <td>0.000000</td>\n",
       "      <td>0.000000</td>\n",
       "      <td>847.000000</td>\n",
       "      <td>44.000000</td>\n",
       "    </tr>\n",
       "    <tr>\n",
       "      <th>25%</th>\n",
       "      <td>3.300000</td>\n",
       "      <td>0.000000</td>\n",
       "      <td>0.000000</td>\n",
       "      <td>66.000000</td>\n",
       "      <td>120.500000</td>\n",
       "      <td>89.750000</td>\n",
       "      <td>-1.000000</td>\n",
       "      <td>1.000000</td>\n",
       "      <td>0.000000</td>\n",
       "      <td>0.000000</td>\n",
       "      <td>0.000000</td>\n",
       "      <td>0.000000</td>\n",
       "      <td>2180.500000</td>\n",
       "      <td>67.500000</td>\n",
       "    </tr>\n",
       "    <tr>\n",
       "      <th>50%</th>\n",
       "      <td>4.000000</td>\n",
       "      <td>0.000000</td>\n",
       "      <td>0.000000</td>\n",
       "      <td>75.000000</td>\n",
       "      <td>157.000000</td>\n",
       "      <td>101.500000</td>\n",
       "      <td>6.000000</td>\n",
       "      <td>1.000000</td>\n",
       "      <td>0.000000</td>\n",
       "      <td>0.000000</td>\n",
       "      <td>0.000000</td>\n",
       "      <td>0.000000</td>\n",
       "      <td>3110.000000</td>\n",
       "      <td>80.000000</td>\n",
       "    </tr>\n",
       "    <tr>\n",
       "      <th>75%</th>\n",
       "      <td>4.500000</td>\n",
       "      <td>0.000000</td>\n",
       "      <td>1.000000</td>\n",
       "      <td>84.000000</td>\n",
       "      <td>176.500000</td>\n",
       "      <td>129.250000</td>\n",
       "      <td>20.500000</td>\n",
       "      <td>1.000000</td>\n",
       "      <td>0.000000</td>\n",
       "      <td>0.000000</td>\n",
       "      <td>0.000000</td>\n",
       "      <td>1.000000</td>\n",
       "      <td>4470.500000</td>\n",
       "      <td>91.000000</td>\n",
       "    </tr>\n",
       "    <tr>\n",
       "      <th>max</th>\n",
       "      <td>5.000000</td>\n",
       "      <td>1.000000</td>\n",
       "      <td>1.000000</td>\n",
       "      <td>155.000000</td>\n",
       "      <td>281.000000</td>\n",
       "      <td>196.000000</td>\n",
       "      <td>160.000000</td>\n",
       "      <td>1.000000</td>\n",
       "      <td>1.000000</td>\n",
       "      <td>1.000000</td>\n",
       "      <td>1.000000</td>\n",
       "      <td>1.000000</td>\n",
       "      <td>6807.000000</td>\n",
       "      <td>178.000000</td>\n",
       "    </tr>\n",
       "  </tbody>\n",
       "</table>\n",
       "</div>"
      ],
      "text/plain": [
       "          Rating     hourly  employer_provided  min_salary  max_salary  \\\n",
       "count  51.000000  51.000000          51.000000   51.000000   51.000000   \n",
       "mean    3.121569   0.137255           0.274510   76.058824  151.254902   \n",
       "std     2.113889   0.347540           0.450708   23.010790   39.820519   \n",
       "min    -1.000000   0.000000           0.000000   31.000000   80.000000   \n",
       "25%     3.300000   0.000000           0.000000   66.000000  120.500000   \n",
       "50%     4.000000   0.000000           0.000000   75.000000  157.000000   \n",
       "75%     4.500000   0.000000           1.000000   84.000000  176.500000   \n",
       "max     5.000000   1.000000           1.000000  155.000000  281.000000   \n",
       "\n",
       "       avr_salary         age  python_yn       R_yn      spark        aws  \\\n",
       "count   51.000000   51.000000  51.000000  51.000000  51.000000  51.000000   \n",
       "mean   108.401961   21.117647   0.843137   0.019608   0.117647   0.176471   \n",
       "std     32.634647   39.010074   0.367290   0.140028   0.325396   0.385013   \n",
       "min     47.500000   -1.000000   0.000000   0.000000   0.000000   0.000000   \n",
       "25%     89.750000   -1.000000   1.000000   0.000000   0.000000   0.000000   \n",
       "50%    101.500000    6.000000   1.000000   0.000000   0.000000   0.000000   \n",
       "75%    129.250000   20.500000   1.000000   0.000000   0.000000   0.000000   \n",
       "max    196.000000  160.000000   1.000000   1.000000   1.000000   1.000000   \n",
       "\n",
       "           excel     desc_len   mi_slalry  \n",
       "count  51.000000    51.000000   51.000000  \n",
       "mean    0.352941  3333.117647   83.803922  \n",
       "std     0.482640  1504.732596   27.202955  \n",
       "min     0.000000   847.000000   44.000000  \n",
       "25%     0.000000  2180.500000   67.500000  \n",
       "50%     0.000000  3110.000000   80.000000  \n",
       "75%     1.000000  4470.500000   91.000000  \n",
       "max     1.000000  6807.000000  178.000000  "
      ]
     },
     "execution_count": 18,
     "metadata": {},
     "output_type": "execute_result"
    }
   ],
   "source": [
    "df.describe()"
   ]
  },
  {
   "cell_type": "code",
   "execution_count": 19,
   "id": "8ef7a413",
   "metadata": {},
   "outputs": [
    {
     "data": {
      "text/plain": [
       "<AxesSubplot:>"
      ]
     },
     "execution_count": 19,
     "metadata": {},
     "output_type": "execute_result"
    },
    {
     "data": {
      "image/png": "[encoded data removed]",
      "text/plain": [
       "<Figure size 432x288 with 1 Axes>"
      ]
     },
     "metadata": {
      "needs_background": "light"
     },
     "output_type": "display_data"
    }
   ],
   "source": [
    "df.Rating.hist()"
   ]
  },
  {
   "cell_type": "code",
   "execution_count": 22,
   "id": "4b9df05b",
   "metadata": {},
   "outputs": [
    {
     "data": {
      "text/plain": [
       "<AxesSubplot:>"
      ]
     },
     "execution_count": 22,
     "metadata": {},
     "output_type": "execute_result"
    },
    {
     "data": {
      "image/png": "[encoded data removed]",
      "text/plain": [
       "<Figure size 432x288 with 1 Axes>"
      ]
     },
     "metadata": {
      "needs_background": "light"
     },
     "output_type": "display_data"
    }
   ],
   "source": [
    "df.avr_salary.hist()"
   ]
  },
  {
   "cell_type": "code",
   "execution_count": 23,
   "id": "bf6919d2",
   "metadata": {},
   "outputs": [
    {
     "data": {
      "text/plain": [
       "<AxesSubplot:>"
      ]
     },
     "execution_count": 23,
     "metadata": {},
     "output_type": "execute_result"
    },
    {
     "data": {
      "image/png": "[encoded data removed]",
      "text/plain": [
       "<Figure size 432x288 with 1 Axes>"
      ]
     },
     "metadata": {
      "needs_background": "light"
     },
     "output_type": "display_data"
    }
   ],
   "source": [
    "df.age.hist()"
   ]
  },
  {
   "cell_type": "code",
   "execution_count": 24,
   "id": "c423fe73",
   "metadata": {},
   "outputs": [
    {
     "data": {
      "text/plain": [
       "<AxesSubplot:>"
      ]
     },
     "execution_count": 24,
     "metadata": {},
     "output_type": "execute_result"
    },
    {
     "data": {
      "image/png": "[encoded data removed]",
      "text/plain": [
       "<Figure size 432x288 with 1 Axes>"
      ]
     },
     "metadata": {
      "needs_background": "light"
     },
     "output_type": "display_data"
    }
   ],
   "source": [
    "df.desc_len.hist()"
   ]
  },
  {
   "cell_type": "code",
   "execution_count": 27,
   "id": "b53b4e7d",
   "metadata": {},
   "outputs": [
    {
     "data": {
      "text/plain": [
       "<AxesSubplot:>"
      ]
     },
     "execution_count": 27,
     "metadata": {},
     "output_type": "execute_result"
    },
    {
     "data": {
      "image/png": "[encoded data removed]",
      "text/plain": [
       "<Figure size 432x288 with 1 Axes>"
      ]
     },
     "metadata": {
      "needs_background": "light"
     },
     "output_type": "display_data"
    }
   ],
   "source": [
    "df.boxplot(column = ['age','avr_salary','Rating'])"
   ]
  },
  {
   "cell_type": "code",
   "execution_count": 29,
   "id": "db4ca1a5",
   "metadata": {},
   "outputs": [
    {
     "data": {
      "text/plain": [
       "<AxesSubplot:>"
      ]
     },
     "execution_count": 29,
     "metadata": {},
     "output_type": "execute_result"
    },
    {
     "data": {
      "image/png": "[encoded data removed]",
      "text/plain": [
       "<Figure size 432x288 with 1 Axes>"
      ]
     },
     "metadata": {
      "needs_background": "light"
     },
     "output_type": "display_data"
    }
   ],
   "source": [
    "df.boxplot(column = 'Rating')"
   ]
  },
  {
   "cell_type": "code",
   "execution_count": 31,
   "id": "79a2a605",
   "metadata": {},
   "outputs": [
    {
     "data": {
      "text/html": [
       "<div>\n",
       "<style scoped>\n",
       "    .dataframe tbody tr th:only-of-type {\n",
       "        vertical-align: middle;\n",
       "    }\n",
       "\n",
       "    .dataframe tbody tr th {\n",
       "        vertical-align: top;\n",
       "    }\n",
       "\n",
       "    .dataframe thead th {\n",
       "        text-align: right;\n",
       "    }\n",
       "</style>\n",
       "<table border=\"1\" class=\"dataframe\">\n",
       "  <thead>\n",
       "    <tr style=\"text-align: right;\">\n",
       "      <th></th>\n",
       "      <th>age</th>\n",
       "      <th>avr_salary</th>\n",
       "      <th>Rating</th>\n",
       "      <th>desc_len</th>\n",
       "    </tr>\n",
       "  </thead>\n",
       "  <tbody>\n",
       "    <tr>\n",
       "      <th>age</th>\n",
       "      <td>1.000000</td>\n",
       "      <td>-0.040043</td>\n",
       "      <td>0.236608</td>\n",
       "      <td>0.025804</td>\n",
       "    </tr>\n",
       "    <tr>\n",
       "      <th>avr_salary</th>\n",
       "      <td>-0.040043</td>\n",
       "      <td>1.000000</td>\n",
       "      <td>0.160760</td>\n",
       "      <td>0.390078</td>\n",
       "    </tr>\n",
       "    <tr>\n",
       "      <th>Rating</th>\n",
       "      <td>0.236608</td>\n",
       "      <td>0.160760</td>\n",
       "      <td>1.000000</td>\n",
       "      <td>0.422082</td>\n",
       "    </tr>\n",
       "    <tr>\n",
       "      <th>desc_len</th>\n",
       "      <td>0.025804</td>\n",
       "      <td>0.390078</td>\n",
       "      <td>0.422082</td>\n",
       "      <td>1.000000</td>\n",
       "    </tr>\n",
       "  </tbody>\n",
       "</table>\n",
       "</div>"
      ],
      "text/plain": [
       "                 age  avr_salary    Rating  desc_len\n",
       "age         1.000000   -0.040043  0.236608  0.025804\n",
       "avr_salary -0.040043    1.000000  0.160760  0.390078\n",
       "Rating      0.236608    0.160760  1.000000  0.422082\n",
       "desc_len    0.025804    0.390078  0.422082  1.000000"
      ]
     },
     "execution_count": 31,
     "metadata": {},
     "output_type": "execute_result"
    }
   ],
   "source": [
    "df[['age','avr_salary','Rating','desc_len']].corr()"
   ]
  },
  {
   "cell_type": "code",
   "execution_count": 35,
   "id": "fcc44621",
   "metadata": {},
   "outputs": [
    {
     "data": {
      "text/plain": [
       "<AxesSubplot:>"
      ]
     },
     "execution_count": 35,
     "metadata": {},
     "output_type": "execute_result"
    },
    {
     "data": {
      "image/png": "[encoded data removed]",
      "text/plain": [
       "<Figure size 432x288 with 2 Axes>"
      ]
     },
     "metadata": {
      "needs_background": "light"
     },
     "output_type": "display_data"
    }
   ],
   "source": [
    "cmap = sns.diverging_palette(220, 10, as_cmap=True)\n",
    "sns.heatmap(df[['age','avr_salary','Rating','desc_len']].corr(),vmax=.3, center=0, cmap=cmap,\n",
    "            square=True, linewidths=.5, cbar_kws={\"shrink\": .5})"
   ]
  },
  {
   "cell_type": "code",
   "execution_count": 37,
   "id": "fb2db674",
   "metadata": {},
   "outputs": [
    {
     "data": {
      "text/plain": [
       "Index(['Job Title', 'Salary Estimate', 'Job Description', 'Rating',\n",
       "       'Company Name', 'Location', 'Size', 'Founded', 'Type of ownership',\n",
       "       'Industry', 'Sector', 'Revenue', 'hourly', 'employer_provided',\n",
       "       'min_salary', 'max_salary', 'avr_salary', 'company_txt', 'job_state',\n",
       "       'age', 'python_yn', 'R_yn', 'spark', 'aws', 'excel', 'job_simp',\n",
       "       'seniority', 'desc_len', 'mi_slalry'],\n",
       "      dtype='object')"
      ]
     },
     "execution_count": 37,
     "metadata": {},
     "output_type": "execute_result"
    }
   ],
   "source": [
    "df.columns"
   ]
  },
  {
   "cell_type": "code",
   "execution_count": 41,
   "id": "10f5ea5e",
   "metadata": {},
   "outputs": [],
   "source": [
    "df_cat = df[['Location', 'Size','Type of ownership', 'Industry', 'Sector', 'Revenue', 'company_txt', 'job_state', 'python_yn', 'R_yn',\n",
    "       'spark', 'aws', 'excel', 'job_simp', 'seniority']]"
   ]
  },
  {
   "cell_type": "code",
   "execution_count": 49,
   "id": "2596e280",
   "metadata": {},
   "outputs": [
    {
     "name": "stdout",
     "output_type": "stream",
     "text": [
      "graph for Location: total = 30\n"
     ]
    },
    {
     "data": {
      "image/png": "[encoded data removed]",
      "text/plain": [
       "<Figure size 432x288 with 1 Axes>"
      ]
     },
     "metadata": {
      "needs_background": "light"
     },
     "output_type": "display_data"
    },
    {
     "name": "stdout",
     "output_type": "stream",
     "text": [
      "graph for Size: total = 9\n"
     ]
    },
    {
     "data": {
      "image/png": "[encoded data removed]",
      "text/plain": [
       "<Figure size 432x288 with 1 Axes>"
      ]
     },
     "metadata": {
      "needs_background": "light"
     },
     "output_type": "display_data"
    },
    {
     "name": "stdout",
     "output_type": "stream",
     "text": [
      "graph for Type of ownership: total = 9\n"
     ]
    },
    {
     "data": {
      "image/png": "[encoded data removed]",
      "text/plain": [
       "<Figure size 432x288 with 1 Axes>"
      ]
     },
     "metadata": {
      "needs_background": "light"
     },
     "output_type": "display_data"
    },
    {
     "name": "stdout",
     "output_type": "stream",
     "text": [
      "graph for Industry: total = 21\n"
     ]
    },
    {
     "data": {
      "image/png": "[encoded data removed]",
      "text/plain": [
       "<Figure size 432x288 with 1 Axes>"
      ]
     },
     "metadata": {
      "needs_background": "light"
     },
     "output_type": "display_data"
    },
    {
     "name": "stdout",
     "output_type": "stream",
     "text": [
      "graph for Sector: total = 14\n"
     ]
    },
    {
     "data": {
      "image/png": "[encoded data removed]",
      "text/plain": [
       "<Figure size 432x288 with 1 Axes>"
      ]
     },
     "metadata": {
      "needs_background": "light"
     },
     "output_type": "display_data"
    },
    {
     "name": "stdout",
     "output_type": "stream",
     "text": [
      "graph for Revenue: total = 13\n"
     ]
    },
    {
     "data": {
      "image/png": "[encoded data removed]",
      "text/plain": [
       "<Figure size 432x288 with 1 Axes>"
      ]
     },
     "metadata": {
      "needs_background": "light"
     },
     "output_type": "display_data"
    },
    {
     "name": "stdout",
     "output_type": "stream",
     "text": [
      "graph for company_txt: total = 41\n"
     ]
    },
    {
     "data": {
      "image/png": "[encoded data removed]",
      "text/plain": [
       "<Figure size 432x288 with 1 Axes>"
      ]
     },
     "metadata": {
      "needs_background": "light"
     },
     "output_type": "display_data"
    },
    {
     "name": "stdout",
     "output_type": "stream",
     "text": [
      "graph for job_state: total = 14\n"
     ]
    },
    {
     "data": {
      "image/png": "[encoded data removed]",
      "text/plain": [
       "<Figure size 432x288 with 1 Axes>"
      ]
     },
     "metadata": {
      "needs_background": "light"
     },
     "output_type": "display_data"
    },
    {
     "name": "stdout",
     "output_type": "stream",
     "text": [
      "graph for python_yn: total = 2\n"
     ]
    },
    {
     "data": {
      "image/png": "[encoded data removed]",
      "text/plain": [
       "<Figure size 432x288 with 1 Axes>"
      ]
     },
     "metadata": {
      "needs_background": "light"
     },
     "output_type": "display_data"
    },
    {
     "name": "stdout",
     "output_type": "stream",
     "text": [
      "graph for R_yn: total = 2\n"
     ]
    },
    {
     "data": {
      "image/png": "[encoded data removed]",
      "text/plain": [
       "<Figure size 432x288 with 1 Axes>"
      ]
     },
     "metadata": {
      "needs_background": "light"
     },
     "output_type": "display_data"
    },
    {
     "name": "stdout",
     "output_type": "stream",
     "text": [
      "graph for spark: total = 2\n"
     ]
    },
    {
     "data": {
      "image/png": "[encoded data removed]",
      "text/plain": [
       "<Figure size 432x288 with 1 Axes>"
      ]
     },
     "metadata": {
      "needs_background": "light"
     },
     "output_type": "display_data"
    },
    {
     "name": "stdout",
     "output_type": "stream",
     "text": [
      "graph for aws: total = 2\n"
     ]
    },
    {
     "data": {
      "image/png": "[encoded data removed]",
      "text/plain": [
       "<Figure size 432x288 with 1 Axes>"
      ]
     },
     "metadata": {
      "needs_background": "light"
     },
     "output_type": "display_data"
    },
    {
     "name": "stdout",
     "output_type": "stream",
     "text": [
      "graph for excel: total = 2\n"
     ]
    },
    {
     "data": {
      "image/png": "[encoded data removed]",
      "text/plain": [
       "<Figure size 432x288 with 1 Axes>"
      ]
     },
     "metadata": {
      "needs_background": "light"
     },
     "output_type": "display_data"
    },
    {
     "name": "stdout",
     "output_type": "stream",
     "text": [
      "graph for job_simp: total = 5\n"
     ]
    },
    {
     "data": {
      "image/png": "[encoded data removed]",
      "text/plain": [
       "<Figure size 432x288 with 1 Axes>"
      ]
     },
     "metadata": {
      "needs_background": "light"
     },
     "output_type": "display_data"
    },
    {
     "name": "stdout",
     "output_type": "stream",
     "text": [
      "graph for seniority: total = 3\n"
     ]
    },
    {
     "data": {
      "image/png": "[encoded data removed]",
      "text/plain": [
       "<Figure size 432x288 with 1 Axes>"
      ]
     },
     "metadata": {
      "needs_background": "light"
     },
     "output_type": "display_data"
    }
   ],
   "source": [
    "for i in df_cat:\n",
    "    cat_num = df_cat[i].value_counts()\n",
    "    print(\"graph for %s: total = %d\" % (i, len(cat_num)))\n",
    "    chart = sns.barplot(x=cat_num.index, y=cat_num)\n",
    "    chart.set_xticklabels(chart.get_xticklabels(), rotation=90)\n",
    "    plt.show()"
   ]
  },
  {
   "cell_type": "code",
   "execution_count": 52,
   "id": "921ff9aa",
   "metadata": {},
   "outputs": [
    {
     "name": "stdout",
     "output_type": "stream",
     "text": [
      "graph for Location: total = 20\n"
     ]
    },
    {
     "data": {
      "image/png": "[encoded data removed]",
      "text/plain": [
       "<Figure size 432x288 with 1 Axes>"
      ]
     },
     "metadata": {
      "needs_background": "light"
     },
     "output_type": "display_data"
    },
    {
     "name": "stdout",
     "output_type": "stream",
     "text": [
      "graph for company_txt: total = 20\n"
     ]
    },
    {
     "data": {
      "image/png": "[encoded data removed]",
      "text/plain": [
       "<Figure size 432x288 with 1 Axes>"
      ]
     },
     "metadata": {
      "needs_background": "light"
     },
     "output_type": "display_data"
    }
   ],
   "source": [
    "\n",
    "for i in df_cat[['Location','company_txt']].columns:\n",
    "    cat_num = df_cat[i].value_counts()[:20]\n",
    "    print(\"graph for %s: total = %d\" % (i, len(cat_num)))\n",
    "    chart = sns.barplot(x=cat_num.index, y=cat_num)\n",
    "    chart.set_xticklabels(chart.get_xticklabels(), rotation=90)\n",
    "    plt.show()"
   ]
  },
  {
   "cell_type": "code",
   "execution_count": 54,
   "id": "628ce9ca",
   "metadata": {},
   "outputs": [
    {
     "data": {
      "text/html": [
       "<div>\n",
       "<style scoped>\n",
       "    .dataframe tbody tr th:only-of-type {\n",
       "        vertical-align: middle;\n",
       "    }\n",
       "\n",
       "    .dataframe tbody tr th {\n",
       "        vertical-align: top;\n",
       "    }\n",
       "\n",
       "    .dataframe thead th {\n",
       "        text-align: right;\n",
       "    }\n",
       "</style>\n",
       "<table border=\"1\" class=\"dataframe\">\n",
       "  <thead>\n",
       "    <tr style=\"text-align: right;\">\n",
       "      <th></th>\n",
       "      <th>avr_salary</th>\n",
       "    </tr>\n",
       "    <tr>\n",
       "      <th>job_simp</th>\n",
       "      <th></th>\n",
       "    </tr>\n",
       "  </thead>\n",
       "  <tbody>\n",
       "    <tr>\n",
       "      <th>analyst</th>\n",
       "      <td>47.500000</td>\n",
       "    </tr>\n",
       "    <tr>\n",
       "      <th>data scientist</th>\n",
       "      <td>110.756098</td>\n",
       "    </tr>\n",
       "    <tr>\n",
       "      <th>manager</th>\n",
       "      <td>132.500000</td>\n",
       "    </tr>\n",
       "    <tr>\n",
       "      <th>mle</th>\n",
       "      <td>171.500000</td>\n",
       "    </tr>\n",
       "    <tr>\n",
       "      <th>na</th>\n",
       "      <td>74.200000</td>\n",
       "    </tr>\n",
       "  </tbody>\n",
       "</table>\n",
       "</div>"
      ],
      "text/plain": [
       "                avr_salary\n",
       "job_simp                  \n",
       "analyst          47.500000\n",
       "data scientist  110.756098\n",
       "manager         132.500000\n",
       "mle             171.500000\n",
       "na               74.200000"
      ]
     },
     "execution_count": 54,
     "metadata": {},
     "output_type": "execute_result"
    }
   ],
   "source": [
    "pd.pivot_table(df, index = 'job_simp', values = 'avr_salary')"
   ]
  },
  {
   "cell_type": "code",
   "execution_count": 56,
   "id": "43eb59e5",
   "metadata": {},
   "outputs": [
    {
     "data": {
      "text/html": [
       "<div>\n",
       "<style scoped>\n",
       "    .dataframe tbody tr th:only-of-type {\n",
       "        vertical-align: middle;\n",
       "    }\n",
       "\n",
       "    .dataframe tbody tr th {\n",
       "        vertical-align: top;\n",
       "    }\n",
       "\n",
       "    .dataframe thead th {\n",
       "        text-align: right;\n",
       "    }\n",
       "</style>\n",
       "<table border=\"1\" class=\"dataframe\">\n",
       "  <thead>\n",
       "    <tr style=\"text-align: right;\">\n",
       "      <th></th>\n",
       "      <th></th>\n",
       "      <th>avr_salary</th>\n",
       "    </tr>\n",
       "    <tr>\n",
       "      <th>job_simp</th>\n",
       "      <th>seniority</th>\n",
       "      <th></th>\n",
       "    </tr>\n",
       "  </thead>\n",
       "  <tbody>\n",
       "    <tr>\n",
       "      <th>analyst</th>\n",
       "      <th>na</th>\n",
       "      <td>47.500000</td>\n",
       "    </tr>\n",
       "    <tr>\n",
       "      <th rowspan=\"3\" valign=\"top\">data scientist</th>\n",
       "      <th>jr</th>\n",
       "      <td>84.750000</td>\n",
       "    </tr>\n",
       "    <tr>\n",
       "      <th>na</th>\n",
       "      <td>105.425926</td>\n",
       "    </tr>\n",
       "    <tr>\n",
       "      <th>senior</th>\n",
       "      <td>135.550000</td>\n",
       "    </tr>\n",
       "    <tr>\n",
       "      <th>manager</th>\n",
       "      <th>na</th>\n",
       "      <td>132.500000</td>\n",
       "    </tr>\n",
       "    <tr>\n",
       "      <th>mle</th>\n",
       "      <th>na</th>\n",
       "      <td>171.500000</td>\n",
       "    </tr>\n",
       "    <tr>\n",
       "      <th rowspan=\"2\" valign=\"top\">na</th>\n",
       "      <th>na</th>\n",
       "      <td>69.000000</td>\n",
       "    </tr>\n",
       "    <tr>\n",
       "      <th>senior</th>\n",
       "      <td>77.666667</td>\n",
       "    </tr>\n",
       "  </tbody>\n",
       "</table>\n",
       "</div>"
      ],
      "text/plain": [
       "                          avr_salary\n",
       "job_simp       seniority            \n",
       "analyst        na          47.500000\n",
       "data scientist jr          84.750000\n",
       "               na         105.425926\n",
       "               senior     135.550000\n",
       "manager        na         132.500000\n",
       "mle            na         171.500000\n",
       "na             na          69.000000\n",
       "               senior      77.666667"
      ]
     },
     "execution_count": 56,
     "metadata": {},
     "output_type": "execute_result"
    }
   ],
   "source": [
    "pd.pivot_table(df, index = ['job_simp','seniority'], values = 'avr_salary')"
   ]
  },
  {
   "cell_type": "code",
   "execution_count": 58,
   "id": "3e145de6",
   "metadata": {},
   "outputs": [
    {
     "data": {
      "text/html": [
       "<div>\n",
       "<style scoped>\n",
       "    .dataframe tbody tr th:only-of-type {\n",
       "        vertical-align: middle;\n",
       "    }\n",
       "\n",
       "    .dataframe tbody tr th {\n",
       "        vertical-align: top;\n",
       "    }\n",
       "\n",
       "    .dataframe thead th {\n",
       "        text-align: right;\n",
       "    }\n",
       "</style>\n",
       "<table border=\"1\" class=\"dataframe\">\n",
       "  <thead>\n",
       "    <tr style=\"text-align: right;\">\n",
       "      <th></th>\n",
       "      <th></th>\n",
       "      <th>avr_salary</th>\n",
       "    </tr>\n",
       "    <tr>\n",
       "      <th>job_state</th>\n",
       "      <th>job_simp</th>\n",
       "      <th></th>\n",
       "    </tr>\n",
       "  </thead>\n",
       "  <tbody>\n",
       "    <tr>\n",
       "      <th>Remote</th>\n",
       "      <th>data scientist</th>\n",
       "      <td>84.500000</td>\n",
       "    </tr>\n",
       "    <tr>\n",
       "      <th>WI</th>\n",
       "      <th>data scientist</th>\n",
       "      <td>81.500000</td>\n",
       "    </tr>\n",
       "    <tr>\n",
       "      <th>WA</th>\n",
       "      <th>data scientist</th>\n",
       "      <td>127.500000</td>\n",
       "    </tr>\n",
       "    <tr>\n",
       "      <th>VT</th>\n",
       "      <th>data scientist</th>\n",
       "      <td>100.500000</td>\n",
       "    </tr>\n",
       "    <tr>\n",
       "      <th>TX</th>\n",
       "      <th>data scientist</th>\n",
       "      <td>94.166667</td>\n",
       "    </tr>\n",
       "    <tr>\n",
       "      <th>OH</th>\n",
       "      <th>analyst</th>\n",
       "      <td>47.500000</td>\n",
       "    </tr>\n",
       "    <tr>\n",
       "      <th>NY</th>\n",
       "      <th>na</th>\n",
       "      <td>69.000000</td>\n",
       "    </tr>\n",
       "    <tr>\n",
       "      <th>NJ</th>\n",
       "      <th>data scientist</th>\n",
       "      <td>97.750000</td>\n",
       "    </tr>\n",
       "    <tr>\n",
       "      <th rowspan=\"2\" valign=\"top\">MA</th>\n",
       "      <th>na</th>\n",
       "      <td>89.000000</td>\n",
       "    </tr>\n",
       "    <tr>\n",
       "      <th>data scientist</th>\n",
       "      <td>99.833333</td>\n",
       "    </tr>\n",
       "    <tr>\n",
       "      <th>IL</th>\n",
       "      <th>data scientist</th>\n",
       "      <td>105.500000</td>\n",
       "    </tr>\n",
       "    <tr>\n",
       "      <th>GA</th>\n",
       "      <th>data scientist</th>\n",
       "      <td>129.500000</td>\n",
       "    </tr>\n",
       "    <tr>\n",
       "      <th>DC</th>\n",
       "      <th>data scientist</th>\n",
       "      <td>160.000000</td>\n",
       "    </tr>\n",
       "    <tr>\n",
       "      <th rowspan=\"4\" valign=\"top\">CA</th>\n",
       "      <th>data scientist</th>\n",
       "      <td>123.000000</td>\n",
       "    </tr>\n",
       "    <tr>\n",
       "      <th>na</th>\n",
       "      <td>72.000000</td>\n",
       "    </tr>\n",
       "    <tr>\n",
       "      <th>mle</th>\n",
       "      <td>171.500000</td>\n",
       "    </tr>\n",
       "    <tr>\n",
       "      <th>manager</th>\n",
       "      <td>132.500000</td>\n",
       "    </tr>\n",
       "    <tr>\n",
       "      <th>AZ</th>\n",
       "      <th>data scientist</th>\n",
       "      <td>95.000000</td>\n",
       "    </tr>\n",
       "  </tbody>\n",
       "</table>\n",
       "</div>"
      ],
      "text/plain": [
       "                          avr_salary\n",
       "job_state job_simp                  \n",
       "Remote    data scientist   84.500000\n",
       " WI       data scientist   81.500000\n",
       " WA       data scientist  127.500000\n",
       " VT       data scientist  100.500000\n",
       " TX       data scientist   94.166667\n",
       " OH       analyst          47.500000\n",
       " NY       na               69.000000\n",
       " NJ       data scientist   97.750000\n",
       " MA       na               89.000000\n",
       "          data scientist   99.833333\n",
       " IL       data scientist  105.500000\n",
       " GA       data scientist  129.500000\n",
       " DC       data scientist  160.000000\n",
       " CA       data scientist  123.000000\n",
       "          na               72.000000\n",
       "          mle             171.500000\n",
       "          manager         132.500000\n",
       " AZ       data scientist   95.000000"
      ]
     },
     "execution_count": 58,
     "metadata": {},
     "output_type": "execute_result"
    }
   ],
   "source": [
    "pd.pivot_table(df, index = ['job_state','job_simp'], values = 'avr_salary').sort_values('job_state', ascending = False)"
   ]
  },
  {
   "cell_type": "code",
   "execution_count": 63,
   "id": "c6270673",
   "metadata": {},
   "outputs": [],
   "source": [
    "\n",
    "pd.set_option('display.max_rows', None)"
   ]
  },
  {
   "cell_type": "code",
   "execution_count": 64,
   "id": "8c9112fd",
   "metadata": {},
   "outputs": [
    {
     "data": {
      "text/html": [
       "<div>\n",
       "<style scoped>\n",
       "    .dataframe tbody tr th:only-of-type {\n",
       "        vertical-align: middle;\n",
       "    }\n",
       "\n",
       "    .dataframe tbody tr th {\n",
       "        vertical-align: top;\n",
       "    }\n",
       "\n",
       "    .dataframe thead th {\n",
       "        text-align: right;\n",
       "    }\n",
       "</style>\n",
       "<table border=\"1\" class=\"dataframe\">\n",
       "  <thead>\n",
       "    <tr style=\"text-align: right;\">\n",
       "      <th></th>\n",
       "      <th></th>\n",
       "      <th>avr_salary</th>\n",
       "    </tr>\n",
       "    <tr>\n",
       "      <th>job_state</th>\n",
       "      <th>job_simp</th>\n",
       "      <th></th>\n",
       "    </tr>\n",
       "  </thead>\n",
       "  <tbody>\n",
       "    <tr>\n",
       "      <th>Remote</th>\n",
       "      <th>data scientist</th>\n",
       "      <td>5</td>\n",
       "    </tr>\n",
       "    <tr>\n",
       "      <th>WI</th>\n",
       "      <th>data scientist</th>\n",
       "      <td>2</td>\n",
       "    </tr>\n",
       "    <tr>\n",
       "      <th>WA</th>\n",
       "      <th>data scientist</th>\n",
       "      <td>1</td>\n",
       "    </tr>\n",
       "    <tr>\n",
       "      <th>VT</th>\n",
       "      <th>data scientist</th>\n",
       "      <td>1</td>\n",
       "    </tr>\n",
       "    <tr>\n",
       "      <th>TX</th>\n",
       "      <th>data scientist</th>\n",
       "      <td>3</td>\n",
       "    </tr>\n",
       "    <tr>\n",
       "      <th>OH</th>\n",
       "      <th>analyst</th>\n",
       "      <td>1</td>\n",
       "    </tr>\n",
       "    <tr>\n",
       "      <th>NY</th>\n",
       "      <th>na</th>\n",
       "      <td>2</td>\n",
       "    </tr>\n",
       "    <tr>\n",
       "      <th>NJ</th>\n",
       "      <th>data scientist</th>\n",
       "      <td>2</td>\n",
       "    </tr>\n",
       "    <tr>\n",
       "      <th rowspan=\"2\" valign=\"top\">MA</th>\n",
       "      <th>na</th>\n",
       "      <td>1</td>\n",
       "    </tr>\n",
       "    <tr>\n",
       "      <th>data scientist</th>\n",
       "      <td>3</td>\n",
       "    </tr>\n",
       "    <tr>\n",
       "      <th>IL</th>\n",
       "      <th>data scientist</th>\n",
       "      <td>1</td>\n",
       "    </tr>\n",
       "    <tr>\n",
       "      <th>GA</th>\n",
       "      <th>data scientist</th>\n",
       "      <td>1</td>\n",
       "    </tr>\n",
       "    <tr>\n",
       "      <th>DC</th>\n",
       "      <th>data scientist</th>\n",
       "      <td>1</td>\n",
       "    </tr>\n",
       "    <tr>\n",
       "      <th rowspan=\"4\" valign=\"top\">CA</th>\n",
       "      <th>data scientist</th>\n",
       "      <td>20</td>\n",
       "    </tr>\n",
       "    <tr>\n",
       "      <th>na</th>\n",
       "      <td>2</td>\n",
       "    </tr>\n",
       "    <tr>\n",
       "      <th>mle</th>\n",
       "      <td>1</td>\n",
       "    </tr>\n",
       "    <tr>\n",
       "      <th>manager</th>\n",
       "      <td>3</td>\n",
       "    </tr>\n",
       "    <tr>\n",
       "      <th>AZ</th>\n",
       "      <th>data scientist</th>\n",
       "      <td>1</td>\n",
       "    </tr>\n",
       "  </tbody>\n",
       "</table>\n",
       "</div>"
      ],
      "text/plain": [
       "                          avr_salary\n",
       "job_state job_simp                  \n",
       "Remote    data scientist           5\n",
       " WI       data scientist           2\n",
       " WA       data scientist           1\n",
       " VT       data scientist           1\n",
       " TX       data scientist           3\n",
       " OH       analyst                  1\n",
       " NY       na                       2\n",
       " NJ       data scientist           2\n",
       " MA       na                       1\n",
       "          data scientist           3\n",
       " IL       data scientist           1\n",
       " GA       data scientist           1\n",
       " DC       data scientist           1\n",
       " CA       data scientist          20\n",
       "          na                       2\n",
       "          mle                      1\n",
       "          manager                  3\n",
       " AZ       data scientist           1"
      ]
     },
     "execution_count": 64,
     "metadata": {},
     "output_type": "execute_result"
    }
   ],
   "source": [
    "pd.pivot_table(df, index = ['job_state','job_simp'], values = 'avr_salary', aggfunc = 'count').sort_values('job_state', ascending = False)"
   ]
  },
  {
   "cell_type": "code",
   "execution_count": 67,
   "id": "d7b18fa7",
   "metadata": {},
   "outputs": [
    {
     "data": {
      "text/html": [
       "<div>\n",
       "<style scoped>\n",
       "    .dataframe tbody tr th:only-of-type {\n",
       "        vertical-align: middle;\n",
       "    }\n",
       "\n",
       "    .dataframe tbody tr th {\n",
       "        vertical-align: top;\n",
       "    }\n",
       "\n",
       "    .dataframe thead th {\n",
       "        text-align: right;\n",
       "    }\n",
       "</style>\n",
       "<table border=\"1\" class=\"dataframe\">\n",
       "  <thead>\n",
       "    <tr style=\"text-align: right;\">\n",
       "      <th></th>\n",
       "      <th>avr_salary</th>\n",
       "    </tr>\n",
       "    <tr>\n",
       "      <th>job_state</th>\n",
       "      <th></th>\n",
       "    </tr>\n",
       "  </thead>\n",
       "  <tbody>\n",
       "    <tr>\n",
       "      <th>DC</th>\n",
       "      <td>160.000000</td>\n",
       "    </tr>\n",
       "    <tr>\n",
       "      <th>GA</th>\n",
       "      <td>129.500000</td>\n",
       "    </tr>\n",
       "    <tr>\n",
       "      <th>WA</th>\n",
       "      <td>127.500000</td>\n",
       "    </tr>\n",
       "    <tr>\n",
       "      <th>CA</th>\n",
       "      <td>123.000000</td>\n",
       "    </tr>\n",
       "    <tr>\n",
       "      <th>IL</th>\n",
       "      <td>105.500000</td>\n",
       "    </tr>\n",
       "    <tr>\n",
       "      <th>VT</th>\n",
       "      <td>100.500000</td>\n",
       "    </tr>\n",
       "    <tr>\n",
       "      <th>MA</th>\n",
       "      <td>99.833333</td>\n",
       "    </tr>\n",
       "    <tr>\n",
       "      <th>NJ</th>\n",
       "      <td>97.750000</td>\n",
       "    </tr>\n",
       "    <tr>\n",
       "      <th>AZ</th>\n",
       "      <td>95.000000</td>\n",
       "    </tr>\n",
       "    <tr>\n",
       "      <th>TX</th>\n",
       "      <td>94.166667</td>\n",
       "    </tr>\n",
       "    <tr>\n",
       "      <th>Remote</th>\n",
       "      <td>84.500000</td>\n",
       "    </tr>\n",
       "    <tr>\n",
       "      <th>WI</th>\n",
       "      <td>81.500000</td>\n",
       "    </tr>\n",
       "  </tbody>\n",
       "</table>\n",
       "</div>"
      ],
      "text/plain": [
       "           avr_salary\n",
       "job_state            \n",
       " DC        160.000000\n",
       " GA        129.500000\n",
       " WA        127.500000\n",
       " CA        123.000000\n",
       " IL        105.500000\n",
       " VT        100.500000\n",
       " MA         99.833333\n",
       " NJ         97.750000\n",
       " AZ         95.000000\n",
       " TX         94.166667\n",
       "Remote      84.500000\n",
       " WI         81.500000"
      ]
     },
     "execution_count": 67,
     "metadata": {},
     "output_type": "execute_result"
    }
   ],
   "source": [
    "pd.pivot_table(df[df.job_simp == 'data scientist'], index = 'job_state', values = 'avr_salary').sort_values('avr_salary', ascending = False)"
   ]
  },
  {
   "cell_type": "code",
   "execution_count": 70,
   "id": "cf79c896",
   "metadata": {},
   "outputs": [],
   "source": [
    "df_pivots = df[['Rating', 'Industry', 'Sector', 'Revenue', 'hourly', 'employer_provided', 'python_yn', 'R_yn', 'spark', 'aws', 'excel', 'Type of ownership','avr_salary']]"
   ]
  },
  {
   "cell_type": "code",
   "execution_count": 72,
   "id": "6b355658",
   "metadata": {},
   "outputs": [
    {
     "name": "stdout",
     "output_type": "stream",
     "text": [
      "Rating\n",
      "        avr_salary\n",
      "Rating            \n",
      " 4.2    171.250000\n",
      " 4.6    135.666667\n",
      " 3.3    125.750000\n",
      " 4.5    124.250000\n",
      " 4.0    116.125000\n",
      " 4.4    109.833333\n",
      " 4.1    108.666667\n",
      " 3.7    104.700000\n",
      " 3.4    100.500000\n",
      " 5.0    100.000000\n",
      " 3.8     99.333333\n",
      "-1.0     97.800000\n",
      " 3.6     96.500000\n",
      " 2.6     95.000000\n",
      " 3.1     92.000000\n",
      " 4.3     89.000000\n",
      " 4.7     70.750000\n",
      " 4.9     69.000000\n",
      "Industry\n",
      "                                          avr_salary\n",
      "Industry                                            \n",
      "Information Technology                    160.000000\n",
      "Lending                                   146.500000\n",
      "Internet                                  144.285714\n",
      "Video Games                               144.000000\n",
      "Motion Picture Production & Distribution  127.500000\n",
      "Ticket Sales                              122.500000\n",
      "K-12 Education                            122.000000\n",
      "Health Care Services & Hospitals          119.000000\n",
      "General Merchandise & Superstores         105.500000\n",
      "$5 to $10 million (USD)                   103.500000\n",
      "IT Services                               101.500000\n",
      "Colleges & Universities                   101.500000\n",
      "-1                                        100.857143\n",
      "Security Services                         100.500000\n",
      "Staffing & Outsourcing                     96.500000\n",
      "Oil, Gas, Energy & Utilities               96.500000\n",
      "Sports & Recreation                        92.000000\n",
      "Insurance Carriers                         90.500000\n",
      "Enterprise Software & Network Solutions    85.833333\n",
      "Manufacturing                              81.500000\n",
      "Biotech & Pharmaceuticals                  75.666667\n",
      "Sector\n",
      "                                  avr_salary\n",
      "Sector                                      \n",
      "Unknown / Non-Applicable          160.000000\n",
      "Finance                           146.500000\n",
      "Media                             138.500000\n",
      "Information Technology            120.923077\n",
      "Health Care                       119.000000\n",
      "Education                         108.333333\n",
      "Arts, Entertainment & Recreation  107.250000\n",
      "Retail                            105.500000\n",
      "-1                                101.033333\n",
      "Business Services                  98.500000\n",
      "Less than $1 million (USD)         96.500000\n",
      "Insurance                          90.500000\n",
      "$10+ billion (USD)                 81.500000\n",
      "Biotech & Pharmaceuticals          75.666667\n",
      "Revenue\n",
      "                            avr_salary\n",
      "Revenue                               \n",
      "$5 to $10 billion (USD)     196.000000\n",
      "$10+ billion (USD)          131.500000\n",
      "$10 to $25 million (USD)    126.500000\n",
      "$50 to $100 million (USD)   122.500000\n",
      "$1 to $5 million (USD)      121.687500\n",
      "Unknown / Non-Applicable    106.812500\n",
      "-1                          101.842105\n",
      "$2 to $5 billion (USD)      101.500000\n",
      "$100 to $500 million (USD)   96.500000\n",
      "$25 to $50 million (USD)     96.000000\n",
      "$1 to $2 billion (USD)       90.500000\n",
      "Less than $1 million (USD)   89.000000\n",
      "$5 to $10 million (USD)      74.000000\n",
      "hourly\n",
      "        avr_salary\n",
      "hourly            \n",
      "0       115.068182\n",
      "1        66.500000\n",
      "employer_provided\n",
      "                   avr_salary\n",
      "employer_provided            \n",
      "0                  113.500000\n",
      "1                   94.928571\n",
      "python_yn\n",
      "           avr_salary\n",
      "python_yn            \n",
      "0          115.562500\n",
      "1          107.069767\n",
      "R_yn\n",
      "      avr_salary\n",
      "R_yn            \n",
      "1         126.50\n",
      "0         108.04\n",
      "spark\n",
      "       avr_salary\n",
      "spark            \n",
      "0      109.111111\n",
      "1      103.083333\n",
      "aws\n",
      "     avr_salary\n",
      "aws            \n",
      "0    108.607143\n",
      "1    107.444444\n",
      "excel\n",
      "       avr_salary\n",
      "excel            \n",
      "1      118.805556\n",
      "0      102.727273\n",
      "Type of ownership\n",
      "                                avr_salary\n",
      "Type of ownership                         \n",
      "Computer Hardware & Software    160.000000\n",
      "Unknown / Non-Applicable        117.571429\n",
      "Company - Private               114.911765\n",
      "Company - Public                111.125000\n",
      "Subsidiary or Business Segment  108.583333\n",
      "College / University            101.500000\n",
      "Energy                           96.500000\n",
      "-1                               84.142857\n",
      "Industrial Manufacturing         81.500000\n",
      "avr_salary\n"
     ]
    },
    {
     "ename": "ValueError",
     "evalue": "Grouper for 'avr_salary' not 1-dimensional",
     "output_type": "error",
     "traceback": [
      "\u001b[1;31m---------------------------------------------------------------------------\u001b[0m",
      "\u001b[1;31mValueError\u001b[0m                                Traceback (most recent call last)",
      "\u001b[1;32m<ipython-input-72-fa767f1dfa9e>\u001b[0m in \u001b[0;36m<module>\u001b[1;34m\u001b[0m\n\u001b[0;32m      1\u001b[0m \u001b[1;32mfor\u001b[0m \u001b[0mi\u001b[0m \u001b[1;32min\u001b[0m \u001b[0mdf_pivots\u001b[0m\u001b[1;33m.\u001b[0m\u001b[0mcolumns\u001b[0m\u001b[1;33m:\u001b[0m\u001b[1;33m\u001b[0m\u001b[1;33m\u001b[0m\u001b[0m\n\u001b[0;32m      2\u001b[0m     \u001b[0mprint\u001b[0m\u001b[1;33m(\u001b[0m\u001b[0mi\u001b[0m\u001b[1;33m)\u001b[0m\u001b[1;33m\u001b[0m\u001b[1;33m\u001b[0m\u001b[0m\n\u001b[1;32m----> 3\u001b[1;33m     \u001b[0mprint\u001b[0m\u001b[1;33m(\u001b[0m\u001b[0mpd\u001b[0m\u001b[1;33m.\u001b[0m\u001b[0mpivot_table\u001b[0m\u001b[1;33m(\u001b[0m\u001b[0mdf_pivots\u001b[0m\u001b[1;33m,\u001b[0m\u001b[0mindex\u001b[0m \u001b[1;33m=\u001b[0m\u001b[0mi\u001b[0m\u001b[1;33m,\u001b[0m \u001b[0mvalues\u001b[0m \u001b[1;33m=\u001b[0m \u001b[1;34m'avr_salary'\u001b[0m\u001b[1;33m)\u001b[0m\u001b[1;33m.\u001b[0m\u001b[0msort_values\u001b[0m\u001b[1;33m(\u001b[0m\u001b[1;34m'avr_salary'\u001b[0m\u001b[1;33m,\u001b[0m \u001b[0mascending\u001b[0m \u001b[1;33m=\u001b[0m \u001b[1;32mFalse\u001b[0m\u001b[1;33m)\u001b[0m\u001b[1;33m)\u001b[0m\u001b[1;33m\u001b[0m\u001b[1;33m\u001b[0m\u001b[0m\n\u001b[0m",
      "\u001b[1;32m~\\anaconda3\\lib\\site-packages\\pandas\\core\\reshape\\pivot.py\u001b[0m in \u001b[0;36mpivot_table\u001b[1;34m(data, values, index, columns, aggfunc, fill_value, margins, dropna, margins_name, observed)\u001b[0m\n\u001b[0;32m    110\u001b[0m         \u001b[0mvalues\u001b[0m \u001b[1;33m=\u001b[0m \u001b[0mlist\u001b[0m\u001b[1;33m(\u001b[0m\u001b[0mvalues\u001b[0m\u001b[1;33m)\u001b[0m\u001b[1;33m\u001b[0m\u001b[1;33m\u001b[0m\u001b[0m\n\u001b[0;32m    111\u001b[0m \u001b[1;33m\u001b[0m\u001b[0m\n\u001b[1;32m--> 112\u001b[1;33m     \u001b[0mgrouped\u001b[0m \u001b[1;33m=\u001b[0m \u001b[0mdata\u001b[0m\u001b[1;33m.\u001b[0m\u001b[0mgroupby\u001b[0m\u001b[1;33m(\u001b[0m\u001b[0mkeys\u001b[0m\u001b[1;33m,\u001b[0m \u001b[0mobserved\u001b[0m\u001b[1;33m=\u001b[0m\u001b[0mobserved\u001b[0m\u001b[1;33m)\u001b[0m\u001b[1;33m\u001b[0m\u001b[1;33m\u001b[0m\u001b[0m\n\u001b[0m\u001b[0;32m    113\u001b[0m     \u001b[0magged\u001b[0m \u001b[1;33m=\u001b[0m \u001b[0mgrouped\u001b[0m\u001b[1;33m.\u001b[0m\u001b[0magg\u001b[0m\u001b[1;33m(\u001b[0m\u001b[0maggfunc\u001b[0m\u001b[1;33m)\u001b[0m\u001b[1;33m\u001b[0m\u001b[1;33m\u001b[0m\u001b[0m\n\u001b[0;32m    114\u001b[0m     \u001b[1;32mif\u001b[0m \u001b[0mdropna\u001b[0m \u001b[1;32mand\u001b[0m \u001b[0misinstance\u001b[0m\u001b[1;33m(\u001b[0m\u001b[0magged\u001b[0m\u001b[1;33m,\u001b[0m \u001b[0mABCDataFrame\u001b[0m\u001b[1;33m)\u001b[0m \u001b[1;32mand\u001b[0m \u001b[0mlen\u001b[0m\u001b[1;33m(\u001b[0m\u001b[0magged\u001b[0m\u001b[1;33m.\u001b[0m\u001b[0mcolumns\u001b[0m\u001b[1;33m)\u001b[0m\u001b[1;33m:\u001b[0m\u001b[1;33m\u001b[0m\u001b[1;33m\u001b[0m\u001b[0m\n",
      "\u001b[1;32m~\\anaconda3\\lib\\site-packages\\pandas\\core\\frame.py\u001b[0m in \u001b[0;36mgroupby\u001b[1;34m(self, by, axis, level, as_index, sort, group_keys, squeeze, observed, dropna)\u001b[0m\n\u001b[0;32m   6715\u001b[0m         \u001b[0maxis\u001b[0m \u001b[1;33m=\u001b[0m \u001b[0mself\u001b[0m\u001b[1;33m.\u001b[0m\u001b[0m_get_axis_number\u001b[0m\u001b[1;33m(\u001b[0m\u001b[0maxis\u001b[0m\u001b[1;33m)\u001b[0m\u001b[1;33m\u001b[0m\u001b[1;33m\u001b[0m\u001b[0m\n\u001b[0;32m   6716\u001b[0m \u001b[1;33m\u001b[0m\u001b[0m\n\u001b[1;32m-> 6717\u001b[1;33m         return DataFrameGroupBy(\n\u001b[0m\u001b[0;32m   6718\u001b[0m             \u001b[0mobj\u001b[0m\u001b[1;33m=\u001b[0m\u001b[0mself\u001b[0m\u001b[1;33m,\u001b[0m\u001b[1;33m\u001b[0m\u001b[1;33m\u001b[0m\u001b[0m\n\u001b[0;32m   6719\u001b[0m             \u001b[0mkeys\u001b[0m\u001b[1;33m=\u001b[0m\u001b[0mby\u001b[0m\u001b[1;33m,\u001b[0m\u001b[1;33m\u001b[0m\u001b[1;33m\u001b[0m\u001b[0m\n",
      "\u001b[1;32m~\\anaconda3\\lib\\site-packages\\pandas\\core\\groupby\\groupby.py\u001b[0m in \u001b[0;36m__init__\u001b[1;34m(self, obj, keys, axis, level, grouper, exclusions, selection, as_index, sort, group_keys, squeeze, observed, mutated, dropna)\u001b[0m\n\u001b[0;32m    558\u001b[0m             \u001b[1;32mfrom\u001b[0m \u001b[0mpandas\u001b[0m\u001b[1;33m.\u001b[0m\u001b[0mcore\u001b[0m\u001b[1;33m.\u001b[0m\u001b[0mgroupby\u001b[0m\u001b[1;33m.\u001b[0m\u001b[0mgrouper\u001b[0m \u001b[1;32mimport\u001b[0m \u001b[0mget_grouper\u001b[0m\u001b[1;33m\u001b[0m\u001b[1;33m\u001b[0m\u001b[0m\n\u001b[0;32m    559\u001b[0m \u001b[1;33m\u001b[0m\u001b[0m\n\u001b[1;32m--> 560\u001b[1;33m             grouper, exclusions, obj = get_grouper(\n\u001b[0m\u001b[0;32m    561\u001b[0m                 \u001b[0mobj\u001b[0m\u001b[1;33m,\u001b[0m\u001b[1;33m\u001b[0m\u001b[1;33m\u001b[0m\u001b[0m\n\u001b[0;32m    562\u001b[0m                 \u001b[0mkeys\u001b[0m\u001b[1;33m,\u001b[0m\u001b[1;33m\u001b[0m\u001b[1;33m\u001b[0m\u001b[0m\n",
      "\u001b[1;32m~\\anaconda3\\lib\\site-packages\\pandas\\core\\groupby\\grouper.py\u001b[0m in \u001b[0;36mget_grouper\u001b[1;34m(obj, key, axis, level, sort, observed, mutated, validate, dropna)\u001b[0m\n\u001b[0;32m    826\u001b[0m         \u001b[1;31m# allow us to passing the actual Grouping as the gpr\u001b[0m\u001b[1;33m\u001b[0m\u001b[1;33m\u001b[0m\u001b[1;33m\u001b[0m\u001b[0m\n\u001b[0;32m    827\u001b[0m         ping = (\n\u001b[1;32m--> 828\u001b[1;33m             Grouping(\n\u001b[0m\u001b[0;32m    829\u001b[0m                 \u001b[0mgroup_axis\u001b[0m\u001b[1;33m,\u001b[0m\u001b[1;33m\u001b[0m\u001b[1;33m\u001b[0m\u001b[0m\n\u001b[0;32m    830\u001b[0m                 \u001b[0mgpr\u001b[0m\u001b[1;33m,\u001b[0m\u001b[1;33m\u001b[0m\u001b[1;33m\u001b[0m\u001b[0m\n",
      "\u001b[1;32m~\\anaconda3\\lib\\site-packages\\pandas\\core\\groupby\\grouper.py\u001b[0m in \u001b[0;36m__init__\u001b[1;34m(self, index, grouper, obj, name, level, sort, observed, in_axis, dropna)\u001b[0m\n\u001b[0;32m    541\u001b[0m                 \u001b[1;32mif\u001b[0m \u001b[0mgetattr\u001b[0m\u001b[1;33m(\u001b[0m\u001b[0mself\u001b[0m\u001b[1;33m.\u001b[0m\u001b[0mgrouper\u001b[0m\u001b[1;33m,\u001b[0m \u001b[1;34m\"ndim\"\u001b[0m\u001b[1;33m,\u001b[0m \u001b[1;36m1\u001b[0m\u001b[1;33m)\u001b[0m \u001b[1;33m!=\u001b[0m \u001b[1;36m1\u001b[0m\u001b[1;33m:\u001b[0m\u001b[1;33m\u001b[0m\u001b[1;33m\u001b[0m\u001b[0m\n\u001b[0;32m    542\u001b[0m                     \u001b[0mt\u001b[0m \u001b[1;33m=\u001b[0m \u001b[0mself\u001b[0m\u001b[1;33m.\u001b[0m\u001b[0mname\u001b[0m \u001b[1;32mor\u001b[0m \u001b[0mstr\u001b[0m\u001b[1;33m(\u001b[0m\u001b[0mtype\u001b[0m\u001b[1;33m(\u001b[0m\u001b[0mself\u001b[0m\u001b[1;33m.\u001b[0m\u001b[0mgrouper\u001b[0m\u001b[1;33m)\u001b[0m\u001b[1;33m)\u001b[0m\u001b[1;33m\u001b[0m\u001b[1;33m\u001b[0m\u001b[0m\n\u001b[1;32m--> 543\u001b[1;33m                     \u001b[1;32mraise\u001b[0m \u001b[0mValueError\u001b[0m\u001b[1;33m(\u001b[0m\u001b[1;34mf\"Grouper for '{t}' not 1-dimensional\"\u001b[0m\u001b[1;33m)\u001b[0m\u001b[1;33m\u001b[0m\u001b[1;33m\u001b[0m\u001b[0m\n\u001b[0m\u001b[0;32m    544\u001b[0m                 \u001b[0mself\u001b[0m\u001b[1;33m.\u001b[0m\u001b[0mgrouper\u001b[0m \u001b[1;33m=\u001b[0m \u001b[0mself\u001b[0m\u001b[1;33m.\u001b[0m\u001b[0mindex\u001b[0m\u001b[1;33m.\u001b[0m\u001b[0mmap\u001b[0m\u001b[1;33m(\u001b[0m\u001b[0mself\u001b[0m\u001b[1;33m.\u001b[0m\u001b[0mgrouper\u001b[0m\u001b[1;33m)\u001b[0m\u001b[1;33m\u001b[0m\u001b[1;33m\u001b[0m\u001b[0m\n\u001b[0;32m    545\u001b[0m                 if not (\n",
      "\u001b[1;31mValueError\u001b[0m: Grouper for 'avr_salary' not 1-dimensional"
     ]
    }
   ],
   "source": [
    "for i in df_pivots.columns:\n",
    "    print(i)\n",
    "    print(pd.pivot_table(df_pivots,index =i, values = 'avr_salary').sort_values('avr_salary', ascending = False))"
   ]
  },
  {
   "cell_type": "code",
   "execution_count": 74,
   "id": "6e31c354",
   "metadata": {},
   "outputs": [
    {
     "data": {
      "text/html": [
       "<div>\n",
       "<style scoped>\n",
       "    .dataframe tbody tr th:only-of-type {\n",
       "        vertical-align: middle;\n",
       "    }\n",
       "\n",
       "    .dataframe tbody tr th {\n",
       "        vertical-align: top;\n",
       "    }\n",
       "\n",
       "    .dataframe thead th {\n",
       "        text-align: right;\n",
       "    }\n",
       "</style>\n",
       "<table border=\"1\" class=\"dataframe\">\n",
       "  <thead>\n",
       "    <tr style=\"text-align: right;\">\n",
       "      <th>python_yn</th>\n",
       "      <th>0</th>\n",
       "      <th>1</th>\n",
       "    </tr>\n",
       "    <tr>\n",
       "      <th>Revenue</th>\n",
       "      <th></th>\n",
       "      <th></th>\n",
       "    </tr>\n",
       "  </thead>\n",
       "  <tbody>\n",
       "    <tr>\n",
       "      <th>$1 to $2 billion (USD)</th>\n",
       "      <td>NaN</td>\n",
       "      <td>3.0</td>\n",
       "    </tr>\n",
       "    <tr>\n",
       "      <th>$1 to $5 million (USD)</th>\n",
       "      <td>3.0</td>\n",
       "      <td>5.0</td>\n",
       "    </tr>\n",
       "    <tr>\n",
       "      <th>$10 to $25 million (USD)</th>\n",
       "      <td>NaN</td>\n",
       "      <td>1.0</td>\n",
       "    </tr>\n",
       "    <tr>\n",
       "      <th>$10+ billion (USD)</th>\n",
       "      <td>1.0</td>\n",
       "      <td>2.0</td>\n",
       "    </tr>\n",
       "    <tr>\n",
       "      <th>$100 to $500 million (USD)</th>\n",
       "      <td>NaN</td>\n",
       "      <td>1.0</td>\n",
       "    </tr>\n",
       "    <tr>\n",
       "      <th>$2 to $5 billion (USD)</th>\n",
       "      <td>NaN</td>\n",
       "      <td>2.0</td>\n",
       "    </tr>\n",
       "    <tr>\n",
       "      <th>$25 to $50 million (USD)</th>\n",
       "      <td>NaN</td>\n",
       "      <td>2.0</td>\n",
       "    </tr>\n",
       "    <tr>\n",
       "      <th>$5 to $10 billion (USD)</th>\n",
       "      <td>NaN</td>\n",
       "      <td>1.0</td>\n",
       "    </tr>\n",
       "    <tr>\n",
       "      <th>$5 to $10 million (USD)</th>\n",
       "      <td>NaN</td>\n",
       "      <td>1.0</td>\n",
       "    </tr>\n",
       "    <tr>\n",
       "      <th>$50 to $100 million (USD)</th>\n",
       "      <td>NaN</td>\n",
       "      <td>1.0</td>\n",
       "    </tr>\n",
       "    <tr>\n",
       "      <th>-1</th>\n",
       "      <td>4.0</td>\n",
       "      <td>15.0</td>\n",
       "    </tr>\n",
       "    <tr>\n",
       "      <th>Less than $1 million (USD)</th>\n",
       "      <td>NaN</td>\n",
       "      <td>1.0</td>\n",
       "    </tr>\n",
       "    <tr>\n",
       "      <th>Unknown / Non-Applicable</th>\n",
       "      <td>NaN</td>\n",
       "      <td>8.0</td>\n",
       "    </tr>\n",
       "  </tbody>\n",
       "</table>\n",
       "</div>"
      ],
      "text/plain": [
       "python_yn                     0     1\n",
       "Revenue                              \n",
       "$1 to $2 billion (USD)      NaN   3.0\n",
       "$1 to $5 million (USD)      3.0   5.0\n",
       "$10 to $25 million (USD)    NaN   1.0\n",
       "$10+ billion (USD)          1.0   2.0\n",
       "$100 to $500 million (USD)  NaN   1.0\n",
       "$2 to $5 billion (USD)      NaN   2.0\n",
       "$25 to $50 million (USD)    NaN   2.0\n",
       "$5 to $10 billion (USD)     NaN   1.0\n",
       "$5 to $10 million (USD)     NaN   1.0\n",
       "$50 to $100 million (USD)   NaN   1.0\n",
       "-1                          4.0  15.0\n",
       "Less than $1 million (USD)  NaN   1.0\n",
       "Unknown / Non-Applicable    NaN   8.0"
      ]
     },
     "execution_count": 74,
     "metadata": {},
     "output_type": "execute_result"
    }
   ],
   "source": [
    "pd.pivot_table(df_pivots, index = 'Revenue', columns = 'python_yn', values = 'avr_salary', aggfunc = 'count')"
   ]
  },
  {
   "cell_type": "code",
   "execution_count": null,
   "id": "91cd9372",
   "metadata": {},
   "outputs": [],
   "source": []
  },
  {
   "cell_type": "code",
   "execution_count": null,
   "id": "34cfd2a1",
   "metadata": {},
   "outputs": [],
   "source": []
  }
 ],
 "metadata": {
  "kernelspec": {
   "display_name": "Python 3",
   "language": "python",
   "name": "python3"
  },
  "language_info": {
   "codemirror_mode": {
    "name": "ipython",
    "version": 3
   },
   "file_extension": ".py",
   "mimetype": "text/x-python",
   "name": "python",
   "nbconvert_exporter": "python",
   "pygments_lexer": "ipython3",
   "version": "3.8.8"
  }
 },
 "nbformat": 4,
 "nbformat_minor": 5
}
